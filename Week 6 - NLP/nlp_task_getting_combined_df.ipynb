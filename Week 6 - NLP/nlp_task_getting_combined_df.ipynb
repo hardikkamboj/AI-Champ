{
  "nbformat": 4,
  "nbformat_minor": 0,
  "metadata": {
    "colab": {
      "name": "nlp_task_getting_combined_df.ipynb",
      "provenance": [],
      "authorship_tag": "ABX9TyPl/RBbHg+JxSA3ALz9gSx0",
      "include_colab_link": true
    },
    "kernelspec": {
      "name": "python3",
      "display_name": "Python 3"
    }
  },
  "cells": [
    {
      "cell_type": "markdown",
      "metadata": {
        "id": "view-in-github",
        "colab_type": "text"
      },
      "source": [
        "<a href=\"https://colab.research.google.com/github/hardikkamboj/AI-Champ/blob/master/Week%206%20-%20NLP/nlp_task_getting_combined_df.ipynb\" target=\"_parent\"><img src=\"https://colab.research.google.com/assets/colab-badge.svg\" alt=\"Open In Colab\"/></a>"
      ]
    },
    {
      "cell_type": "code",
      "metadata": {
        "id": "AYt2lgiTJsjX"
      },
      "source": [
        "import os \n",
        "from glob import glob\n",
        "\n",
        "import numpy as np\n",
        "import pandas as pd\n",
        "from tqdm import tqdm\n",
        "\n",
        "import matplotlib.pyplot as plt\n",
        "import seaborn as sns"
      ],
      "execution_count": null,
      "outputs": []
    },
    {
      "cell_type": "code",
      "metadata": {
        "id": "8e7wy26VIoYV",
        "outputId": "0248c602-dcbe-44ee-9822-e61b2370ecf1",
        "colab": {
          "base_uri": "https://localhost:8080/"
        }
      },
      "source": [
        "from google.colab import drive\n",
        "drive.mount('/content/gdrive')"
      ],
      "execution_count": null,
      "outputs": [
        {
          "output_type": "stream",
          "text": [
            "Drive already mounted at /content/gdrive; to attempt to forcibly remount, call drive.mount(\"/content/gdrive\", force_remount=True).\n"
          ],
          "name": "stdout"
        }
      ]
    },
    {
      "cell_type": "code",
      "metadata": {
        "id": "Yi1bGpnwI9s0"
      },
      "source": [
        "# unzipping the file\n",
        "!unzip '/content/gdrive/My Drive/reviews.zip'"
      ],
      "execution_count": null,
      "outputs": []
    },
    {
      "cell_type": "code",
      "metadata": {
        "id": "cU63QvxxJWqM",
        "outputId": "805ec36d-dff2-4cb5-c396-0eda582f8aa4",
        "colab": {
          "base_uri": "https://localhost:8080/"
        }
      },
      "source": [
        "review_files = glob('/content/reviews/*.csv')\n",
        "print('Number of csv files are ',len(review_files))"
      ],
      "execution_count": null,
      "outputs": [
        {
          "output_type": "stream",
          "text": [
            "Number of csv files are  9742\n"
          ],
          "name": "stdout"
        }
      ]
    },
    {
      "cell_type": "markdown",
      "metadata": {
        "id": "ZlcTkj5tKYWW"
      },
      "source": [
        "## Examening the number of Reviews "
      ]
    },
    {
      "cell_type": "code",
      "metadata": {
        "id": "qlJBlSPIKgO-",
        "outputId": "11d08a88-f349-4a92-9030-102d38417028",
        "colab": {
          "base_uri": "https://localhost:8080/"
        }
      },
      "source": [
        "num_reviews = [] # for storing length of each file (number of rows)\n",
        "num_cols = []  # for storing number of cols (to checl whether all have same cols or not)\n",
        "for file in tqdm(review_files):\n",
        "  df = pd.read_csv(file)\n",
        "  num_reviews.append(len(df))\n",
        "  num_cols.append(df.shape[1])"
      ],
      "execution_count": null,
      "outputs": [
        {
          "output_type": "stream",
          "text": [
            "100%|██████████| 9742/9742 [00:59<00:00, 162.46it/s]\n"
          ],
          "name": "stderr"
        }
      ]
    },
    {
      "cell_type": "code",
      "metadata": {
        "id": "CkMW5IW2K4fe",
        "outputId": "c0074de9-6a73-44e0-8206-1dcfec53bffd",
        "colab": {
          "base_uri": "https://localhost:8080/",
          "height": 337
        }
      },
      "source": [
        "sns.boxplot(num_reviews)"
      ],
      "execution_count": null,
      "outputs": [
        {
          "output_type": "stream",
          "text": [
            "/usr/local/lib/python3.6/dist-packages/seaborn/_decorators.py:43: FutureWarning: Pass the following variable as a keyword arg: x. From version 0.12, the only valid positional argument will be `data`, and passing other arguments without an explicit keyword will result in an error or misinterpretation.\n",
            "  FutureWarning\n"
          ],
          "name": "stderr"
        },
        {
          "output_type": "execute_result",
          "data": {
            "text/plain": [
              "<matplotlib.axes._subplots.AxesSubplot at 0x7f1c796122b0>"
            ]
          },
          "metadata": {
            "tags": []
          },
          "execution_count": 21
        },
        {
          "output_type": "display_data",
          "data": {
            "image/png": "[encoded data removed]",
            "text/plain": [
              "<Figure size 432x288 with 1 Axes>"
            ]
          },
          "metadata": {
            "tags": [],
            "needs_background": "light"
          }
        }
      ]
    },
    {
      "cell_type": "code",
      "metadata": {
        "id": "v9ecwEv-LxkQ",
        "outputId": "1094cfde-46e6-434f-f42b-828139057008",
        "colab": {
          "base_uri": "https://localhost:8080/"
        }
      },
      "source": [
        "num_reviews.count(0) # files with no rows (empty files)"
      ],
      "execution_count": null,
      "outputs": [
        {
          "output_type": "execute_result",
          "data": {
            "text/plain": [
              "28"
            ]
          },
          "metadata": {
            "tags": []
          },
          "execution_count": 24
        }
      ]
    },
    {
      "cell_type": "code",
      "metadata": {
        "id": "XsA_sovtOnXD",
        "outputId": "bb958e61-bb3e-459e-cd53-8c8bf20cc1e1",
        "colab": {
          "base_uri": "https://localhost:8080/",
          "height": 300
        }
      },
      "source": [
        "pd.DataFrame(num_reviews).describe()"
      ],
      "execution_count": null,
      "outputs": [
        {
          "output_type": "execute_result",
          "data": {
            "text/html": [
              "<div>\n",
              "<style scoped>\n",
              "    .dataframe tbody tr th:only-of-type {\n",
              "        vertical-align: middle;\n",
              "    }\n",
              "\n",
              "    .dataframe tbody tr th {\n",
              "        vertical-align: top;\n",
              "    }\n",
              "\n",
              "    .dataframe thead th {\n",
              "        text-align: right;\n",
              "    }\n",
              "</style>\n",
              "<table border=\"1\" class=\"dataframe\">\n",
              "  <thead>\n",
              "    <tr style=\"text-align: right;\">\n",
              "      <th></th>\n",
              "      <th>0</th>\n",
              "    </tr>\n",
              "  </thead>\n",
              "  <tbody>\n",
              "    <tr>\n",
              "      <th>count</th>\n",
              "      <td>9742.000000</td>\n",
              "    </tr>\n",
              "    <tr>\n",
              "      <th>mean</th>\n",
              "      <td>200.653254</td>\n",
              "    </tr>\n",
              "    <tr>\n",
              "      <th>std</th>\n",
              "      <td>343.787173</td>\n",
              "    </tr>\n",
              "    <tr>\n",
              "      <th>min</th>\n",
              "      <td>0.000000</td>\n",
              "    </tr>\n",
              "    <tr>\n",
              "      <th>25%</th>\n",
              "      <td>25.000000</td>\n",
              "    </tr>\n",
              "    <tr>\n",
              "      <th>50%</th>\n",
              "      <td>99.000000</td>\n",
              "    </tr>\n",
              "    <tr>\n",
              "      <th>75%</th>\n",
              "      <td>225.000000</td>\n",
              "    </tr>\n",
              "    <tr>\n",
              "      <th>max</th>\n",
              "      <td>7307.000000</td>\n",
              "    </tr>\n",
              "  </tbody>\n",
              "</table>\n",
              "</div>"
            ],
            "text/plain": [
              "                 0\n",
              "count  9742.000000\n",
              "mean    200.653254\n",
              "std     343.787173\n",
              "min       0.000000\n",
              "25%      25.000000\n",
              "50%      99.000000\n",
              "75%     225.000000\n",
              "max    7307.000000"
            ]
          },
          "metadata": {
            "tags": []
          },
          "execution_count": 25
        }
      ]
    },
    {
      "cell_type": "code",
      "metadata": {
        "id": "xHvQSsH9PI77",
        "outputId": "c67386c4-eb95-4ad2-80f0-39777cdcf987",
        "colab": {
          "base_uri": "https://localhost:8080/",
          "height": 603
        }
      },
      "source": [
        "# cols \n",
        "sns.boxplot(num_cols)\n",
        "pd.DataFrame(num_cols).describe()\n",
        "# std = 0, so each of them has same number of cols "
      ],
      "execution_count": null,
      "outputs": [
        {
          "output_type": "stream",
          "text": [
            "/usr/local/lib/python3.6/dist-packages/seaborn/_decorators.py:43: FutureWarning: Pass the following variable as a keyword arg: x. From version 0.12, the only valid positional argument will be `data`, and passing other arguments without an explicit keyword will result in an error or misinterpretation.\n",
            "  FutureWarning\n"
          ],
          "name": "stderr"
        },
        {
          "output_type": "execute_result",
          "data": {
            "text/html": [
              "<div>\n",
              "<style scoped>\n",
              "    .dataframe tbody tr th:only-of-type {\n",
              "        vertical-align: middle;\n",
              "    }\n",
              "\n",
              "    .dataframe tbody tr th {\n",
              "        vertical-align: top;\n",
              "    }\n",
              "\n",
              "    .dataframe thead th {\n",
              "        text-align: right;\n",
              "    }\n",
              "</style>\n",
              "<table border=\"1\" class=\"dataframe\">\n",
              "  <thead>\n",
              "    <tr style=\"text-align: right;\">\n",
              "      <th></th>\n",
              "      <th>0</th>\n",
              "    </tr>\n",
              "  </thead>\n",
              "  <tbody>\n",
              "    <tr>\n",
              "      <th>count</th>\n",
              "      <td>9742.0</td>\n",
              "    </tr>\n",
              "    <tr>\n",
              "      <th>mean</th>\n",
              "      <td>6.0</td>\n",
              "    </tr>\n",
              "    <tr>\n",
              "      <th>std</th>\n",
              "      <td>0.0</td>\n",
              "    </tr>\n",
              "    <tr>\n",
              "      <th>min</th>\n",
              "      <td>6.0</td>\n",
              "    </tr>\n",
              "    <tr>\n",
              "      <th>25%</th>\n",
              "      <td>6.0</td>\n",
              "    </tr>\n",
              "    <tr>\n",
              "      <th>50%</th>\n",
              "      <td>6.0</td>\n",
              "    </tr>\n",
              "    <tr>\n",
              "      <th>75%</th>\n",
              "      <td>6.0</td>\n",
              "    </tr>\n",
              "    <tr>\n",
              "      <th>max</th>\n",
              "      <td>6.0</td>\n",
              "    </tr>\n",
              "  </tbody>\n",
              "</table>\n",
              "</div>"
            ],
            "text/plain": [
              "            0\n",
              "count  9742.0\n",
              "mean      6.0\n",
              "std       0.0\n",
              "min       6.0\n",
              "25%       6.0\n",
              "50%       6.0\n",
              "75%       6.0\n",
              "max       6.0"
            ]
          },
          "metadata": {
            "tags": []
          },
          "execution_count": 29
        },
        {
          "output_type": "display_data",
          "data": {
            "image/png": "[encoded data removed]",
            "text/plain": [
              "<Figure size 432x288 with 1 Axes>"
            ]
          },
          "metadata": {
            "tags": [],
            "needs_background": "light"
          }
        }
      ]
    },
    {
      "cell_type": "markdown",
      "metadata": {
        "id": "Wd6nhW6RPcjt"
      },
      "source": [
        "The number of reviews in a csv may vary, some files even has no reviews, but the number of cols in each of the files is same, ie 6"
      ]
    },
    {
      "cell_type": "markdown",
      "metadata": {
        "id": "w-vOcEc7J7x1"
      },
      "source": [
        "## Look at a sample file"
      ]
    },
    {
      "cell_type": "code",
      "metadata": {
        "id": "QRJyuzxXKEvE",
        "outputId": "46087ec5-b851-4e7b-d85d-09d38d5cb587",
        "colab": {
          "base_uri": "https://localhost:8080/",
          "height": 223
        }
      },
      "source": [
        "sample = review_files[0]\n",
        "sample_df = pd.read_csv(sample)\n",
        "print(len(sample_df))\n",
        "sample_df.head()"
      ],
      "execution_count": null,
      "outputs": [
        {
          "output_type": "stream",
          "text": [
            "324\n"
          ],
          "name": "stdout"
        },
        {
          "output_type": "execute_result",
          "data": {
            "text/html": [
              "<div>\n",
              "<style scoped>\n",
              "    .dataframe tbody tr th:only-of-type {\n",
              "        vertical-align: middle;\n",
              "    }\n",
              "\n",
              "    .dataframe tbody tr th {\n",
              "        vertical-align: top;\n",
              "    }\n",
              "\n",
              "    .dataframe thead th {\n",
              "        text-align: right;\n",
              "    }\n",
              "</style>\n",
              "<table border=\"1\" class=\"dataframe\">\n",
              "  <thead>\n",
              "    <tr style=\"text-align: right;\">\n",
              "      <th></th>\n",
              "      <th>movie_id</th>\n",
              "      <th>review</th>\n",
              "      <th>date</th>\n",
              "      <th>helpful</th>\n",
              "      <th>helpful_out_of</th>\n",
              "      <th>rating</th>\n",
              "    </tr>\n",
              "  </thead>\n",
              "  <tbody>\n",
              "    <tr>\n",
              "      <th>0</th>\n",
              "      <td>91064</td>\n",
              "      <td>David Cronenberg redefined what we think of as...</td>\n",
              "      <td>2003-07-16</td>\n",
              "      <td>192</td>\n",
              "      <td>228</td>\n",
              "      <td>10.0</td>\n",
              "    </tr>\n",
              "    <tr>\n",
              "      <th>1</th>\n",
              "      <td>91064</td>\n",
              "      <td>My all time favorite horror film and everyone ...</td>\n",
              "      <td>2017-09-03</td>\n",
              "      <td>16</td>\n",
              "      <td>17</td>\n",
              "      <td>10.0</td>\n",
              "    </tr>\n",
              "    <tr>\n",
              "      <th>2</th>\n",
              "      <td>91064</td>\n",
              "      <td>Most science fiction films are big on ideas an...</td>\n",
              "      <td>2005-06-07</td>\n",
              "      <td>148</td>\n",
              "      <td>187</td>\n",
              "      <td>8.0</td>\n",
              "    </tr>\n",
              "    <tr>\n",
              "      <th>3</th>\n",
              "      <td>91064</td>\n",
              "      <td>It's been over 20 years since this movie was m...</td>\n",
              "      <td>2007-03-08</td>\n",
              "      <td>93</td>\n",
              "      <td>119</td>\n",
              "      <td>9.0</td>\n",
              "    </tr>\n",
              "    <tr>\n",
              "      <th>4</th>\n",
              "      <td>91064</td>\n",
              "      <td>The Fly is more than a horror movie it's a sta...</td>\n",
              "      <td>2002-09-14</td>\n",
              "      <td>123</td>\n",
              "      <td>163</td>\n",
              "      <td>10.0</td>\n",
              "    </tr>\n",
              "  </tbody>\n",
              "</table>\n",
              "</div>"
            ],
            "text/plain": [
              "   movie_id  ... rating\n",
              "0     91064  ...   10.0\n",
              "1     91064  ...   10.0\n",
              "2     91064  ...    8.0\n",
              "3     91064  ...    9.0\n",
              "4     91064  ...   10.0\n",
              "\n",
              "[5 rows x 6 columns]"
            ]
          },
          "metadata": {
            "tags": []
          },
          "execution_count": 38
        }
      ]
    },
    {
      "cell_type": "code",
      "metadata": {
        "id": "TpXUwc79KKu1",
        "outputId": "0526db5a-2533-4a74-b01a-0d907f08a154",
        "colab": {
          "base_uri": "https://localhost:8080/"
        }
      },
      "source": [
        "sample_df.shape"
      ],
      "execution_count": null,
      "outputs": [
        {
          "output_type": "execute_result",
          "data": {
            "text/plain": [
              "(324, 6)"
            ]
          },
          "metadata": {
            "tags": []
          },
          "execution_count": 39
        }
      ]
    },
    {
      "cell_type": "code",
      "metadata": {
        "id": "DtvzCgO3PA2d",
        "outputId": "12c77b16-afe8-4eef-f5ca-2f22822a6e00",
        "colab": {
          "base_uri": "https://localhost:8080/"
        }
      },
      "source": [
        "sample_df.isnull().sum()"
      ],
      "execution_count": null,
      "outputs": [
        {
          "output_type": "execute_result",
          "data": {
            "text/plain": [
              "movie_id           0\n",
              "review             0\n",
              "date               0\n",
              "helpful            0\n",
              "helpful_out_of     0\n",
              "rating            45\n",
              "dtype: int64"
            ]
          },
          "metadata": {
            "tags": []
          },
          "execution_count": 40
        }
      ]
    },
    {
      "cell_type": "markdown",
      "metadata": {
        "id": "cIo1J3dxPohA"
      },
      "source": [
        "We can see here that there are some reviews in which there is no ratings, we will be discarding these rows. "
      ]
    },
    {
      "cell_type": "code",
      "metadata": {
        "id": "z9mH8dTLP6e4",
        "outputId": "b0d23b68-2130-4a01-cbac-c5c46c11158e",
        "colab": {
          "base_uri": "https://localhost:8080/",
          "height": 300
        }
      },
      "source": [
        "sample_df.describe()"
      ],
      "execution_count": null,
      "outputs": [
        {
          "output_type": "execute_result",
          "data": {
            "text/html": [
              "<div>\n",
              "<style scoped>\n",
              "    .dataframe tbody tr th:only-of-type {\n",
              "        vertical-align: middle;\n",
              "    }\n",
              "\n",
              "    .dataframe tbody tr th {\n",
              "        vertical-align: top;\n",
              "    }\n",
              "\n",
              "    .dataframe thead th {\n",
              "        text-align: right;\n",
              "    }\n",
              "</style>\n",
              "<table border=\"1\" class=\"dataframe\">\n",
              "  <thead>\n",
              "    <tr style=\"text-align: right;\">\n",
              "      <th></th>\n",
              "      <th>movie_id</th>\n",
              "      <th>helpful</th>\n",
              "      <th>helpful_out_of</th>\n",
              "      <th>rating</th>\n",
              "    </tr>\n",
              "  </thead>\n",
              "  <tbody>\n",
              "    <tr>\n",
              "      <th>count</th>\n",
              "      <td>324.0</td>\n",
              "      <td>324.000000</td>\n",
              "      <td>324.000000</td>\n",
              "      <td>279.000000</td>\n",
              "    </tr>\n",
              "    <tr>\n",
              "      <th>mean</th>\n",
              "      <td>91064.0</td>\n",
              "      <td>4.401235</td>\n",
              "      <td>7.358025</td>\n",
              "      <td>8.440860</td>\n",
              "    </tr>\n",
              "    <tr>\n",
              "      <th>std</th>\n",
              "      <td>0.0</td>\n",
              "      <td>18.220854</td>\n",
              "      <td>23.667490</td>\n",
              "      <td>1.630172</td>\n",
              "    </tr>\n",
              "    <tr>\n",
              "      <th>min</th>\n",
              "      <td>91064.0</td>\n",
              "      <td>0.000000</td>\n",
              "      <td>0.000000</td>\n",
              "      <td>1.000000</td>\n",
              "    </tr>\n",
              "    <tr>\n",
              "      <th>25%</th>\n",
              "      <td>91064.0</td>\n",
              "      <td>0.000000</td>\n",
              "      <td>1.000000</td>\n",
              "      <td>8.000000</td>\n",
              "    </tr>\n",
              "    <tr>\n",
              "      <th>50%</th>\n",
              "      <td>91064.0</td>\n",
              "      <td>1.000000</td>\n",
              "      <td>2.000000</td>\n",
              "      <td>9.000000</td>\n",
              "    </tr>\n",
              "    <tr>\n",
              "      <th>75%</th>\n",
              "      <td>91064.0</td>\n",
              "      <td>2.000000</td>\n",
              "      <td>4.000000</td>\n",
              "      <td>10.000000</td>\n",
              "    </tr>\n",
              "    <tr>\n",
              "      <th>max</th>\n",
              "      <td>91064.0</td>\n",
              "      <td>192.000000</td>\n",
              "      <td>228.000000</td>\n",
              "      <td>10.000000</td>\n",
              "    </tr>\n",
              "  </tbody>\n",
              "</table>\n",
              "</div>"
            ],
            "text/plain": [
              "       movie_id     helpful  helpful_out_of      rating\n",
              "count     324.0  324.000000      324.000000  279.000000\n",
              "mean    91064.0    4.401235        7.358025    8.440860\n",
              "std         0.0   18.220854       23.667490    1.630172\n",
              "min     91064.0    0.000000        0.000000    1.000000\n",
              "25%     91064.0    0.000000        1.000000    8.000000\n",
              "50%     91064.0    1.000000        2.000000    9.000000\n",
              "75%     91064.0    2.000000        4.000000   10.000000\n",
              "max     91064.0  192.000000      228.000000   10.000000"
            ]
          },
          "metadata": {
            "tags": []
          },
          "execution_count": 41
        }
      ]
    },
    {
      "cell_type": "markdown",
      "metadata": {
        "id": "UGga0cxOP-Po"
      },
      "source": [
        "# Filtering the files and combining it to a single file"
      ]
    },
    {
      "cell_type": "code",
      "metadata": {
        "id": "ceSmLKA5QEvo",
        "outputId": "db6e531a-681a-4848-c125-fb6513310a8b",
        "colab": {
          "base_uri": "https://localhost:8080/"
        }
      },
      "source": [
        "total_df = None\n",
        "\n",
        "for review_csv in tqdm(review_files):\n",
        "  df = pd.read_csv(review_csv)\n",
        "  if len(df) > 0: # select only non empty files\n",
        "    df_non_na = df.dropna()\n",
        "    if type(total_df) == pd.core.frame.DataFrame:\n",
        "      total_df = pd.concat([total_df,df_non_na])  # concat the file to total_df\n",
        "    else:\n",
        "      total_df = df_non_na # runs for the first iteration"
      ],
      "execution_count": null,
      "outputs": [
        {
          "output_type": "stream",
          "text": [
            "100%|██████████| 9742/9742 [14:25<00:00, 11.26it/s]\n"
          ],
          "name": "stderr"
        }
      ]
    },
    {
      "cell_type": "code",
      "metadata": {
        "id": "XnPoFFIGQtcG",
        "outputId": "b5d0dc6d-5f2e-4d34-cf53-c11ff210a247",
        "colab": {
          "base_uri": "https://localhost:8080/"
        }
      },
      "source": [
        "total_df.shape #woah"
      ],
      "execution_count": null,
      "outputs": [
        {
          "output_type": "execute_result",
          "data": {
            "text/plain": [
              "(1683268, 6)"
            ]
          },
          "metadata": {
            "tags": []
          },
          "execution_count": 48
        }
      ]
    },
    {
      "cell_type": "code",
      "metadata": {
        "id": "t9iXgkNiRnbT"
      },
      "source": [
        "# save this csv file to drive\n",
        "total_df.to_csv('/content/gdrive/My Drive/total_data.csv')"
      ],
      "execution_count": null,
      "outputs": []
    },
    {
      "cell_type": "code",
      "metadata": {
        "id": "k3URCpWpWJ_O"
      },
      "source": [
        ""
      ],
      "execution_count": null,
      "outputs": []
    }
  ]
}